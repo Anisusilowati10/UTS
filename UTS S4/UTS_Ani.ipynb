{
 "cells": [
  {
   "cell_type": "code",
   "execution_count": 10,
   "metadata": {},
   "outputs": [
    {
     "data": {
      "text/plain": [
       "com.twosigma.beaker.javash.bkr6c9a1658.tabung"
      ]
     },
     "execution_count": 10,
     "metadata": {},
     "output_type": "execute_result"
    }
   ],
   "source": [
    "\n",
    "import java.util.Scanner;\n",
    "class tabung{\n",
    "    float phi;\n",
    "    float jari;\n",
    "     float tinggi;\n",
    "    float volume;\n",
    "    // ruumus tabung\n",
    "    void hitungVolume(){\n",
    "        volume=((phi*jari*jari)*tinggi);\n",
    "    }\n",
    "    float fungsiHitung(){\n",
    "        hitungVolume();\n",
    "        return volume;\n",
    "    }\n",
    "}"
   ]
  },
  {
   "cell_type": "code",
   "execution_count": 8,
   "metadata": {},
   "outputs": [
    {
     "name": "stdout",
     "output_type": "stream",
     "text": [
      "volume Tabung  : 1500.0\n"
     ]
    },
    {
     "data": {
      "text/plain": [
       "null"
      ]
     },
     "execution_count": 8,
     "metadata": {},
     "output_type": "execute_result"
    }
   ],
   "source": [
    "//IMPLEMENTASI DARI CODE DI ATAS\n",
    "tabung objtabung=new tabung();\n",
    "objtabung.phi=22/7;\n",
    "objtabung.jari=10;\n",
    "objtabung.tinggi=5;\n",
    "System.out.println(\"volume Tabung  : \"+objtabung.fungsiHitung());"
   ]
  },
  {
   "cell_type": "code",
   "execution_count": null,
   "metadata": {},
   "outputs": [],
   "source": []
  }
 ],
 "metadata": {
  "kernelspec": {
   "display_name": "Java",
   "language": "java",
   "name": "java"
  },
  "language_info": {
   "codemirror_mode": "text/x-java",
   "file_extension": ".java",
   "mimetype": "",
   "name": "Java",
   "nbconverter_exporter": "",
   "version": "1.8.0_121"
  },
  "toc": {
   "base_numbering": 1,
   "nav_menu": {},
   "number_sections": false,
   "sideBar": false,
   "skip_h1_title": false,
   "title_cell": "Table of Contents",
   "title_sidebar": "Contents",
   "toc_cell": false,
   "toc_position": {},
   "toc_section_display": false,
   "toc_window_display": false
  }
 },
 "nbformat": 4,
 "nbformat_minor": 2
}
